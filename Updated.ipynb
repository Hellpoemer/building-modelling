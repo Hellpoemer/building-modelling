{
 "cells": [
  {
   "cell_type": "code",
   "execution_count": 1,
   "id": "4e024a9f",
   "metadata": {},
   "outputs": [],
   "source": [
    "import numpy as np\n",
    "import pandas as pd\n",
    "import matplotlib.pyplot as plt\n",
    "import dm4bem"
   ]
  },
  {
   "cell_type": "markdown",
   "id": "35a53b91-f1eb-4c06-983f-3aaa32ac5a87",
   "metadata": {},
   "source": [
    "<h1><center> Grenoble INP - École Nationale Supérieur de l’Énergie, l’Eau et l’Environnement</center></h1>\n",
    "\n",
    "![GrenobleINP Logo](https://upload.wikimedia.org/wikipedia/fr/c/c6/Grenoble_INP_-_Ense3_%28logo%29.svg)\n",
    "\n",
    "<h2><center>Smart Cities</center></h2> \n",
    "<center><i style=\"font-size:20px;\">Dynamic Models for Building Energy Management</i></center>\n",
    "\n",
    "![thermal](img/thermal.png)\n",
    "\n",
    "<h3>Guided by: Christian GHIAUS & Majid BASEER</h3>\n",
    "<h3>Written by:</h3>\n",
    "\n",
    "* Ahmad Opeyemi ZUBAIR\n",
    "* Tiwalade OYEBODE\n",
    "* Solomon Berihu ARAYA\n",
    "\n",
    "<h3><center>June 14, 2022</center></h3> "
   ]
  },
  {
   "cell_type": "markdown",
   "id": "580ef1b7",
   "metadata": {},
   "source": [
    "<h3><center>Table of Contents</center></h3>\n",
    "\n",
    "1. [INTRODUCTION](#INTRODUCTION)\n",
    "2. [BUILDING PLAN](#BUILDING-PLAN)\n",
    "3. [HYPOTHESES](#HYPOTHESES)\n",
    "4. [THERMAL MODEL](#THERMAL-MODEL)\n",
    "5. [MATHEMATICAL MODEL](#MATHEMATICAL-MODEL)\n",
    "6. [MODEL IMPLEMENTATION](#MODEL-IMPLEMENTATION)\n",
    "7. [STEADY-STATE RESULTS](#STEADY-STATE-RESULTS)\n",
    "8. [DYNAMIC SIMULATION](#DYNAMIC-SIMULATION)\n",
    "9. [CONCLUSION](#CONCLUSION)"
   ]
  },
  {
   "cell_type": "markdown",
   "id": "dbeb18ee",
   "metadata": {},
   "source": [
    "##### INTRODUCTION\n",
    "Heat consumption management and effective temperature control strategies to meet heat demand in residential and office buildings have become an important aspect within energy management. A thermal dynamic model of a building is not only necessary to estimate the energy consumption under different operating conditions but also to design effective controllers.  \n",
    "\n",
    "This project investigates the thermal performance of a typical studio apartment with an area of 26.88 m<sup>2</sup> as shown in the figure below. It consists of a bedroom, a kitchen, an HVAC system, an enclosed bathroom with the shower & toilet, and the living space. The building height is a standard 10 feet i.e. 3.05 m.  \n",
    "\n",
    "![floor](img/floor_plan.png)\n",
    "\n",
    "In addition, there are three equal-sized windows, an entrance door and the bathroom door. It is assumed that the southern and eastern walls of the apartment adjoin that of another studio. Therefore, only the western and northern walls are considered during modelling.\n",
    "\n",
    "The composition of the different sub-components of the building are as detailed below:  \n",
    "\n",
    "* **External Walls**: the external walls are made of 200 mm concrete blocks with an 80 mm layer of drywall backed with fiberglass insulation on the interior. A schematic of the external wall is presented in the figure below. \n",
    "![ext_wall](img/wall.png)  \n",
    "\n",
    "* **Bathroom Walls**: the bathroom walls and door are made of frameless tempered glass panels which is 9.5 mm thick.\n",
    "\n",
    "* **Entrance Door**: the entrance door is made of plywood which is 30 mm thick.\n",
    "\n",
    "* **Windows**: the windows are made of float glass which is 4 mm thick with dimensions (0.96 × 0.96)."
   ]
  },
  {
   "cell_type": "markdown",
   "id": "d101012e-cfec-4e3d-9268-03e8cc68fceb",
   "metadata": {},
   "source": [
    "The dimension and surface areas of the building are:"
   ]
  },
  {
   "cell_type": "code",
   "execution_count": 2,
   "id": "e81f680f-dfcf-42a7-95f0-25869b407aee",
   "metadata": {},
   "outputs": [],
   "source": [
    "Sc = Si = 27.43     # m² surface of the concrete and insulation\n",
    "Sg = 2.76           # m² surface of the glass window\n",
    "Sw = 2.14           # m² surface of the wooden door\n",
    "St =  12.81          # m² surface of the tempered glass shower enclosure"
   ]
  },
  {
   "cell_type": "markdown",
   "id": "a87fb7cf-f842-484d-b5d3-9394acbc642f",
   "metadata": {},
   "source": [
    "The building is ventilated; the volumetric air flow rate is `Va_dot`: "
   ]
  },
  {
   "cell_type": "code",
   "execution_count": 3,
   "id": "0e052998-c323-4124-a60b-4b3f520e9664",
   "metadata": {},
   "outputs": [],
   "source": [
    "Va = 69.54          # m³ volume of air\n",
    "ACH = 1             # air changes per hour\n",
    "Va_dot = ACH * Va / 3600    # m³/s air infiltration"
   ]
  },
  {
   "cell_type": "markdown",
   "id": "04249e0b-1f3d-47f5-b8f7-024135cda83b",
   "metadata": {},
   "source": [
    "The thermophysical propoerties of air:"
   ]
  },
  {
   "cell_type": "code",
   "execution_count": 4,
   "id": "6b636b8a-a7af-4ebe-9eee-578dea6f7742",
   "metadata": {},
   "outputs": [
    {
     "data": {
      "text/plain": [
       "{'Density': 1.2, 'Specific heat': 1000}"
      ]
     },
     "execution_count": 4,
     "metadata": {},
     "output_type": "execute_result"
    }
   ],
   "source": [
    "air = {'Density': 1.2,                      # kg/m³\n",
    "       'Specific heat': 1000}               # J/kg.K\n",
    "air"
   ]
  },
  {
   "cell_type": "markdown",
   "id": "55dcaa59-47e6-4fbd-9c42-ad843a62b4d6",
   "metadata": {},
   "source": [
    "The thermophysical propoerties of the materials and surface areas of the materials in the wall:"
   ]
  },
  {
   "cell_type": "code",
   "execution_count": 5,
   "id": "2db86dfc-2fd4-4a32-94b2-a21dcd1286c8",
   "metadata": {},
   "outputs": [
    {
     "data": {
      "text/html": [
       "<div>\n",
       "<style scoped>\n",
       "    .dataframe tbody tr th:only-of-type {\n",
       "        vertical-align: middle;\n",
       "    }\n",
       "\n",
       "    .dataframe tbody tr th {\n",
       "        vertical-align: top;\n",
       "    }\n",
       "\n",
       "    .dataframe thead th {\n",
       "        text-align: right;\n",
       "    }\n",
       "</style>\n",
       "<table border=\"1\" class=\"dataframe\">\n",
       "  <thead>\n",
       "    <tr style=\"text-align: right;\">\n",
       "      <th></th>\n",
       "      <th>Conductivity</th>\n",
       "      <th>Density</th>\n",
       "      <th>Specific heat</th>\n",
       "      <th>Width</th>\n",
       "      <th>Surface</th>\n",
       "      <th>Slices</th>\n",
       "    </tr>\n",
       "  </thead>\n",
       "  <tbody>\n",
       "    <tr>\n",
       "      <th>Concrete</th>\n",
       "      <td>1.400</td>\n",
       "      <td>2300</td>\n",
       "      <td>880</td>\n",
       "      <td>0.2000</td>\n",
       "      <td>27.43</td>\n",
       "      <td>4</td>\n",
       "    </tr>\n",
       "    <tr>\n",
       "      <th>Insulation</th>\n",
       "      <td>0.027</td>\n",
       "      <td>55</td>\n",
       "      <td>1210</td>\n",
       "      <td>0.0800</td>\n",
       "      <td>27.43</td>\n",
       "      <td>2</td>\n",
       "    </tr>\n",
       "    <tr>\n",
       "      <th>Glass</th>\n",
       "      <td>1.400</td>\n",
       "      <td>2500</td>\n",
       "      <td>750</td>\n",
       "      <td>0.0040</td>\n",
       "      <td>2.76</td>\n",
       "      <td>1</td>\n",
       "    </tr>\n",
       "    <tr>\n",
       "      <th>Wood</th>\n",
       "      <td>0.130</td>\n",
       "      <td>650</td>\n",
       "      <td>1800</td>\n",
       "      <td>0.0300</td>\n",
       "      <td>2.14</td>\n",
       "      <td>2</td>\n",
       "    </tr>\n",
       "    <tr>\n",
       "      <th>Tempered Glass</th>\n",
       "      <td>1.100</td>\n",
       "      <td>2520</td>\n",
       "      <td>720</td>\n",
       "      <td>0.0095</td>\n",
       "      <td>12.81</td>\n",
       "      <td>1</td>\n",
       "    </tr>\n",
       "  </tbody>\n",
       "</table>\n",
       "</div>"
      ],
      "text/plain": [
       "                Conductivity  Density  Specific heat   Width  Surface  Slices\n",
       "Concrete               1.400     2300            880  0.2000    27.43       4\n",
       "Insulation             0.027       55           1210  0.0800    27.43       2\n",
       "Glass                  1.400     2500            750  0.0040     2.76       1\n",
       "Wood                   0.130      650           1800  0.0300     2.14       2\n",
       "Tempered Glass         1.100     2520            720  0.0095    12.81       1"
      ]
     },
     "execution_count": 5,
     "metadata": {},
     "output_type": "execute_result"
    }
   ],
   "source": [
    "wall = {'Conductivity': [1.4, 0.027, 1.4, 0.13, 1.1],  # W/m.K\n",
    "        'Density': [2300, 55, 2500, 650, 2520],        # kg/m³\n",
    "        'Specific heat': [880, 1210, 750, 1800, 720],  # J/kg.K\n",
    "        'Width': [0.2, 0.08, 0.004, 0.030, 0.0095],\n",
    "        'Surface': [Sc, Si, Sg, Sw, St],  # m²\n",
    "        'Slices': [4, 2, 1, 2, 1]}                # number of discretizations\n",
    "wall = pd.DataFrame(wall, index=['Concrete', 'Insulation', 'Glass', 'Wood', 'Tempered Glass'])\n",
    "wall"
   ]
  },
  {
   "cell_type": "markdown",
   "id": "30e10ea7-83eb-4a06-889e-d1c83b617b14",
   "metadata": {},
   "source": [
    "The radiative properties of the surfaces are:"
   ]
  },
  {
   "cell_type": "code",
   "execution_count": 6,
   "id": "dc7e7e41-a2d7-4cd1-98af-727b06cccc3f",
   "metadata": {},
   "outputs": [],
   "source": [
    "ε_wLW = 0.9     # long wave wall emmisivity (concrete)\n",
    "α_wSW = 0.2     # absortivity white surface\n",
    "ε_gLW = 0.9     # long wave glass emmisivity (glass pyrex)\n",
    "τ_gSW = 0.83    # short wave glass transmitance (glass)\n",
    "α_gSW = 0.1     # short wave glass absortivity\n",
    "\n",
    "ε_woW = 0.88     # long wave wall emmisivity (wood)\n",
    "α_woSW = 0.7     # absortivity brown surface (wood)\n",
    "\n",
    "σ = 5.67e-8     # W/m².K⁴ Stefan-Bolzmann constant"
   ]
  },
  {
   "cell_type": "markdown",
   "id": "c7f6481a",
   "metadata": {},
   "source": [
    "**Controller Gain**  \n",
    "The controller gain of the HVAC system is set at 2 discrete values as follow:"
   ]
  },
  {
   "cell_type": "code",
   "execution_count": 7,
   "id": "be8b7721-790a-4502-8d02-b7dbd5cc68ea",
   "metadata": {},
   "outputs": [],
   "source": [
    "# P-controler gain\n",
    "#Kp = 1e4            # almost perfect controller Kp -> ∞\n",
    "Kp = 1e-3           # no controller Kp -> 0"
   ]
  },
  {
   "cell_type": "markdown",
   "id": "158a04d1",
   "metadata": {},
   "source": [
    "##### HYPOTHESES\n",
    "The following assumptions were made when constructing the thermal model of the apartment:\n",
    "* It is assumed that the southern and eastern walls of the apartment adjoin that of another studio. Therefore, only the western and northern walls are considered during modelling.\n",
    "* Since the wallpaper is very thin (0.5 mm), it is neglected in the thermal model.\n",
    "* Uniform surface temperature on each wall.\n",
    "* Heat transfer is unidirectional in each wall.\n",
    "* The LW radiation exchange between outer surfaces and the ground is neglected.\n",
    "* Heat transfers with the floor and the ceiling are neglected.\n",
    "* Thermal resistances due to various heat transfer phenomena are lumped together for the window and doors to simplify the model.\n",
    "* The temperature set by the HVAC controller only affects the air in the the living space.\n",
    "* Heat transfer from the exposed kitchen ovens to the indoor air."
   ]
  },
  {
   "cell_type": "markdown",
   "id": "3b7b00ca",
   "metadata": {},
   "source": [
    "##### THERMAL MODEL\n",
    "To construct the thermal model of the building, 6 heat transfer pathways are considered as shown in the figure below.\n",
    "![flows](img/heat_flows.png)\n",
    "\n",
    "The corresponding thermal model of the building is depicted in the figure below.\n",
    "\n",
    "![model](img/model.png)"
   ]
  },
  {
   "cell_type": "markdown",
   "id": "045fc2d3",
   "metadata": {},
   "source": [
    "Some variables in the model are explained as follows:\n",
    "\n",
    "* $R_6$: thermal resistance of the concrete in series with the insulation\n",
    "* $R_9$: lumped thermal resistance due to convection and conduction\n",
    "* $T_o$: outside temperature \n",
    "* $T_{i,sp}$: indoor temperature set point\n",
    "* $\\dot{Q}_{aux}$: auxillary heat flow from the kitchen ovens \n",
    "* $\\phi_t$: absorbed radiative heat flow rate of the tempered glass walls\n",
    "* $\\phi_i$: indoor radiative heat flow rate\n",
    "* $\\phi_o$: outdoor radiative heat flow rate\n",
    "* $C_2$: heat capacity of the indoor air\n",
    "* $C_5$: heat capacity of the concrete \n",
    "* $C_6$: heat capacity of the insulation\n"
   ]
  },
  {
   "cell_type": "markdown",
   "id": "466314ca-35c9-4327-9ac5-e412f760baed",
   "metadata": {},
   "source": [
    "Convection coeficients:"
   ]
  },
  {
   "cell_type": "code",
   "execution_count": 8,
   "id": "c77bc614-0b91-4d45-93b6-8562947255de",
   "metadata": {},
   "outputs": [],
   "source": [
    "# convection coefficients, W/m² K\n",
    "h = pd.DataFrame([{'in': 4., 'out': 10}])"
   ]
  },
  {
   "cell_type": "markdown",
   "id": "dbd1bd1d",
   "metadata": {},
   "source": [
    "##### MATHEMATICAL MODEL\n",
    "\n",
    "The thermal model of the apartment has 7 nodes, 11 thermal resistances, and 6 thermal pathways and 11 flow branches. Using these, we can construct the required matrices. \n",
    "\n",
    "* **Incidence Matrix (A)**: the incidence matrix shows how the temperature nodes are connected by branches of heat flow. It consists of $n_q$ rows and $n_θ$ columns, where $n_q$ is the number of flow branches and $n_θ$ is the number of temperature nodes. Therefore, our A matrix has a dimension of 11 × 7 and is obtained as follows.\n",
    "\\begin{align*}\n",
    "    &e_1 = T_o - \\theta_2  \\hspace{1cm} e_2 = T_{i,sp} - \\theta_2 \\hspace{1cm} \n",
    "    e_3 = T_o - \\theta_2  \\hspace{1cm} e_4 = T_o - \\theta_4 \\\\\n",
    "    &e_5 = \\theta_4 - \\theta_5 \\hspace{1cm} e_6 = \\theta_5 - \\theta_6 \\hspace{1cm} e_7 = \\theta_6 - \\theta_7 \\hspace{1cm} e_8 = \\theta_7 - \\theta_2 \\\\\n",
    "    &e_9 = \\theta_2 - \\theta_3 \\hspace{1cm} e_{10} = \\theta_3 - \\theta_1 \\hspace{1cm} e_{11} = \\theta_2 - \\theta_1\n",
    "\\end{align*}\n",
    "\n",
    "Using the equation $e = -A\\theta + b$, we construct the incidence matrix as follows:\n",
    "\\begin{equation*}\n",
    "    \\begin{bmatrix}\n",
    "        e_1 \\\\ e_2 \\\\ e_3 \\\\ e_4 \\\\ e_5 \\\\ e_6 \\\\ e_7 \\\\ e_8 \\\\ e_9 \\\\ e_{10} \\\\ e_{11} \n",
    "    \\end{bmatrix} = -\n",
    "    \\overbrace{\n",
    "        \\begin{bmatrix}\n",
    "        0 & 1 & 0 & 0 & 0 & 0 & 0 \\\\\n",
    "        0 & 1 & 0 & 0 & 0 & 0 & 0 \\\\\n",
    "        0 & 1 & 0 & 0 & 0 & 0 & 0 \\\\\n",
    "        0 & 0 & 0 & 1 & 0 & 0 & 0 \\\\\n",
    "        0 & 0 & 0 & -1 & 1 & 0 & 0 \\\\\n",
    "        0 & 0 & 0 & 0 & -1 & 1 & 0 \\\\\n",
    "        0 & 0 & 0 & 0 & 0 & -1 & 1 \\\\\n",
    "        0 & 1 & 0 & 0 & 0 & 0 & -1 \\\\\n",
    "        0 & -1 & 1 & 0 & 0 & 0 & 0 \\\\\n",
    "        1 & 0 & -1 & 0 & 0 & 0 & 0 \\\\\n",
    "        1 & -1 & 0 & 0 & 0 & 0 & 0 \\\\\n",
    "    \\end{bmatrix}\n",
    "    }^{A}\n",
    "    \\begin{bmatrix}\n",
    "        \\theta_1 \\\\ \\theta_2 \\\\ \\theta_3 \\\\ \\theta_4 \\\\ \\theta_5 \\\\ \\theta_6 \\\\ \\theta_7 \n",
    "    \\end{bmatrix} + \n",
    "    \\begin{bmatrix}\n",
    "        T_o \\\\ T_{i,sp} \\\\ T_o \\\\ T_o \\\\ 0 \\\\ 0 \\\\ 0 \\\\ 0 \\\\ 0 \\\\ 0 \\\\ 0\n",
    "    \\end{bmatrix}\n",
    "\\end{equation*}  \n",
    "\n",
    "* **Conductance Matrix (G)**: the conductance matrix is a diagonal matrix containing the conductances. Its size is $n_q$ × $n_q$ where $n_q$ is the number of flow branches. Therefore our G matrix is 11 × 11 and is obtained as follows.\n",
    "\\begin{align*}\n",
    "    &q_1 = G_1e_1  \\hspace{1cm} q_2 = G_2e_2 \\hspace{1cm} \n",
    "    q_3 = G_3e_3  \\hspace{1cm} q_4 = G_4e_4 \\\\\n",
    "    &q_5 = G_5e_5 \\hspace{1cm} q_6 = G_6e_6 \\hspace{1cm} q_7 = G_7e_7 \\hspace{1cm} q_8 = G_8e_8 \\\\\n",
    "    &q_9 = G_9e_9 \\hspace{1cm} q_{10} = G_{10}e_{10} \\hspace{1cm} q_{11} = G_{11}e_{11}\n",
    "\\end{align*}\n",
    "Using the equation q = Ge, we construct the conductance matrix as follows:\n",
    "\\begin{equation*}\n",
    "    \\begin{bmatrix}\n",
    "        q_1 \\\\ q_2 \\\\ q_3 \\\\ q_4 \\\\ q_5 \\\\ q_6 \\\\ q_7 \\\\ q_8 \\\\ q_9 \\\\ q_{10} \\\\ q_{11} \n",
    "    \\end{bmatrix} =\n",
    "    \\overbrace{\n",
    "        \\begin{bmatrix}\n",
    "        G_1 & 0 & 0 & 0 & 0 & 0 & 0 & 0 & 0 & 0 & 0 \\\\\n",
    "        0 & G_2 & 0 & 0 & 0 & 0 & 0 & 0 & 0 & 0 & 0 \\\\\n",
    "        0 & 0 & G_3 & 0 & 0 & 0 & 0 & 0 & 0 & 0 & 0 \\\\\n",
    "        0 & 0 & 0 & G_4 & 0 & 0 & 0 & 0 & 0 & 0 & 0 \\\\\n",
    "        0 & 0 & 0 & 0 & G_5 & 0 & 0 & 0 & 0 & 0 & 0 \\\\\n",
    "        0 & 0 & 0 & 0 & 0 & G_6 & 0 & 0 & 0 & 0 & 0 \\\\\n",
    "        0 & 0 & 0 & 0 & 0 & 0 & G_7 & 0 & 0 & 0 & 0 \\\\\n",
    "        0 & 0 & 0 & 0 & 0 & 0 & 0 & G_8 & 0 & 0 & 0 \\\\\n",
    "        0 & 0 & 0 & 0 & 0 & 0 & 0 & 0 & G_9 & 0 & 0 \\\\\n",
    "        0 & 0 & 0 & 0 & 0 & 0 & 0 & 0 & 0 & G_{10} & 0 \\\\\n",
    "        0 & 0 & 0 & 0 & 0 & 0 & 0 & 0 & 0 & 0 & G_{11} \\\\\n",
    "    \\end{bmatrix}\n",
    "    }^{G}\n",
    "    \\begin{bmatrix}\n",
    "        e_1 \\\\ e_2 \\\\ e_3 \\\\ e_4 \\\\ e_5 \\\\ e_6 \\\\ e_7 \\\\ e_8 \\\\ e_9 \\\\ e_{10} \\\\ e_{11}\n",
    "    \\end{bmatrix}\n",
    "\\end{equation*}  \n",
    "\n",
    "* **Capacity Matrix (C)**: The capacity matrix is the diagonal matrix containing the capacities. If there is no capacity in the node n, then $C_{n,n} = 0$. Its size is $n_\\theta$ × $n_\\theta$ where $n_\\theta$ is the number of temperature nodes. Therefore our C matrix is 7 × 7 and is obtained as follows:\n",
    "\\begin{align*}\n",
    "    &0 = q_{10} + q_{11}  \\hspace{1cm} C_2\\dot{\\theta}_2 = q_1 + q_2 + q_3 + q_8 - q_9 - q_{11} + \\dot{Q}_{aux} \\hspace{1cm} C_3\\dot{\\theta}_3 = q_9 - q_{10} + \\phi_t \\\\\n",
    "    &0 = q_4 - q_5 + \\phi_o \\hspace{1cm} C_5\\dot{\\theta}_5 = q_5 - q_6 \\hspace{1cm} C_6\\dot{\\theta}_6 = q_6 - q_7 \\hspace{1cm} 0 = q_7 - q_8 + \\phi_i \n",
    "\\end{align*}\n",
    "\n",
    "Using the equation $C\\dot{\\theta} = A^Tq + f$, we construct the capacitance matrix as follows:\n",
    "\\begin{equation*}\n",
    "    \\overbrace{\n",
    "        \\begin{bmatrix}\n",
    "        0 & 0 & 0 & 0 & 0 & 0 & 0 \\\\\n",
    "        0 & C_2 & 0 & 0 & 0 & 0 & 0 \\\\\n",
    "        0 & 0 & C_3 & 0 & 0 & 0 & 0 \\\\\n",
    "        0 & 0 & 0 & 0 & 0 & 0 & 0 \\\\\n",
    "        0 & 0 & 0 & 0 & C_5 & 0 & 0 \\\\\n",
    "        0 & 0 & 0 & 0 & 0 & C_6 & 0 \\\\\n",
    "        0 & 0 & 0 & 0 & 0 & 0 & 0 \\\\\n",
    "        \\end{bmatrix}\n",
    "    }^{C} \\begin{bmatrix}\n",
    "        \\theta_1 \\\\ \\dot{\\theta}_2 \\\\ \\dot{\\theta}_3 \\\\ \\theta_4 \\\\ \\dot{\\theta}_5 \\\\ \\dot{\\theta}_6 \\\\ \\theta_7 \n",
    "    \\end{bmatrix}  = \n",
    "    \\begin{bmatrix}\n",
    "        0 & 0 & 0 & 0 & 0 & 0 & 0 & 0 & 0 & 1 & 1 \\\\\n",
    "        1 & 1 & 1 & 0 & 0 & 0 & 0 & 1 & -1 & 0 & -1 \\\\\n",
    "        0 & 0 & 0 & 0 & 0 & 0 & 0 & 0 & 1 & -1 & 0 \\\\\n",
    "        0 & 0 & 0 & 1 & -1 & 0 & 0 & 0 & 0 & 0 & 0 \\\\\n",
    "        0 & 0 & 0 & 0 & 1 & -1 & 0 & 0 & 0 & 0 & 0 \\\\\n",
    "        0 & 0 & 0 & 0 & 0 & 1 & -1 & 0 & 0 & 0 & 0 \\\\\n",
    "        0 & 0 & 0 & 0 & 0 & 0 & 1 & -1 & 0 & 0 & 0 \\\\\n",
    "    \\end{bmatrix}\n",
    "    \\begin{bmatrix}\n",
    "        q_1 \\\\ q_2 \\\\ q_3 \\\\ q_4 \\\\ q_5 \\\\ q_6 \\\\ q_7 \\\\ q_8 \\\\ q_9 \\\\ q_{10} \\\\ q_{11} \n",
    "    \\end{bmatrix} + \n",
    "    \\begin{bmatrix}\n",
    "        0 \\\\ \\dot{Q}_{aux} \\\\ \\phi_t \\\\ \\phi_o  \\\\ 0 \\\\ 0 \\\\ \\phi_i\n",
    "    \\end{bmatrix}\n",
    "\\end{equation*}"
   ]
  },
  {
   "cell_type": "markdown",
   "id": "8b3fea4c",
   "metadata": {},
   "source": [
    "##### MODEL IMPLEMENTATION\n",
    "The Python implementation of each matrix in the model is described as follows:"
   ]
  },
  {
   "cell_type": "markdown",
   "id": "e0eeaa18-4cbb-4ac3-b7e9-98b3edbb863f",
   "metadata": {},
   "source": [
    "**Incidence matrix**"
   ]
  },
  {
   "cell_type": "code",
   "execution_count": 9,
   "id": "beaddf90-558e-45e4-a912-f5db92f2430a",
   "metadata": {},
   "outputs": [
    {
     "name": "stdout",
     "output_type": "stream",
     "text": [
      "[[ 0.  1.  0.  0.  0.  0.  0.]\n",
      " [ 0.  1.  0.  0.  0.  0.  0.]\n",
      " [ 0.  1.  0.  0.  0.  0.  0.]\n",
      " [ 0.  0.  0.  1.  0.  0.  0.]\n",
      " [ 0.  0.  0. -1.  1.  0.  0.]\n",
      " [ 0.  0.  0.  0. -1.  1.  0.]\n",
      " [ 0.  0.  0.  0.  0. -1.  1.]\n",
      " [ 0.  1.  0.  0.  0.  0. -1.]\n",
      " [ 0. -1.  1.  0.  0.  0.  0.]\n",
      " [ 1.  0. -1.  0.  0.  0.  0.]\n",
      " [ 1. -1.  0.  0.  0.  0.  0.]]\n"
     ]
    }
   ],
   "source": [
    "A = np.zeros([11, 7])\n",
    "A[0, 1] = 1\n",
    "A[1, 1] = 1\n",
    "A[2, 1] = 1\n",
    "A[3, 3] = 1\n",
    "A[4, 3], A[4, 4] = -1, 1\n",
    "A[5, 4], A[5, 5] = -1, 1\n",
    "A[6, 5], A[6, 6] = -1, 1\n",
    "A[7, 1], A[7, 6] = 1, -1\n",
    "A[8, 1], A[8, 2] = -1, 1\n",
    "A[9, 0], A[9, 2] = 1, -1\n",
    "A[10, 0], A[10, 1] = 1, -1\n",
    "np.set_printoptions(suppress=False, threshold=np.inf)\n",
    "print(A)"
   ]
  },
  {
   "cell_type": "markdown",
   "id": "2c2db9a2-e612-4077-8cb1-9f14a3111fb2",
   "metadata": {},
   "source": [
    "**Conductance matrix**"
   ]
  },
  {
   "cell_type": "markdown",
   "id": "6a31b5ac-b975-4c14-b625-e110ee331778",
   "metadata": {},
   "source": [
    "The heat transfer phenomena of the model are implemented as follows:"
   ]
  },
  {
   "cell_type": "code",
   "execution_count": 10,
   "id": "ba8c81ea-14e7-4c7f-a3b7-a6a7cc1bf5c0",
   "metadata": {},
   "outputs": [],
   "source": [
    "# Conduction\n",
    "G_cd = wall['Conductivity'] / wall['Width'] * wall['Surface']\n",
    "\n",
    "# Convection\n",
    "Gw = h * wall['Surface'][0]     # wall\n",
    "Gg = h * wall['Surface'][2]     # glass\n",
    "Gwo = h * wall['Surface'][3]    # wood\n",
    "Gt = h * wall['Surface'][4]     # tempered glass\n",
    "\n",
    "# Long-wave radiation exchnage\n",
    "# GLW1 = ε_wLW / (1 - ε_wLW) * wall['Surface']['Insulation'] * 4 * σ * Tm**3\n",
    "# GLW2 = Fwg * wall['Surface']['Insulation'] * 4 * σ * Tm**3\n",
    "# GLW3 = ε_gLW / (1 - ε_gLW) * wall['Surface']['Glass'] * 4 * σ * Tm**3\n",
    "# long-wave exg. wall-glass\n",
    "# GLW = 1 / (1 / GLW1 + 1 / GLW2 + 1 / GLW3)\n",
    "\n",
    "# ventilation & advection\n",
    "Gv = Va_dot * air['Density'] * air['Specific heat']\n",
    "\n",
    "# tempred glass: convection outdoor & conduction\n",
    "Ggs = float(1 / (1 / Gt['in'] + 1 / (2 * G_cd['Tempered Glass'])))"
   ]
  },
  {
   "cell_type": "code",
   "execution_count": 11,
   "id": "a0df0ee9",
   "metadata": {},
   "outputs": [],
   "source": [
    "Gdoor = Gwo.iloc[0]['out'] + G_cd['Wood'] + Gwo.iloc[0]['in']\n",
    "Gwindow = Gg.iloc[0]['out'] + G_cd['Glass'] + Gg.iloc[0]['in']"
   ]
  },
  {
   "cell_type": "code",
   "execution_count": 12,
   "id": "bfcaae82-b594-446e-8db4-e8278e4e1268",
   "metadata": {},
   "outputs": [],
   "source": [
    "G = np.diag([Gdoor, Kp, Gwindow,\n",
    "             Gw.iloc[0]['out'], G_cd['Concrete'],\n",
    "             G_cd['Insulation'] + G_cd['Concrete'], G_cd['Insulation'], Gw.iloc[0]['in'], Ggs,\n",
    "             2 * G_cd['Tempered Glass'], G_cd['Tempered Glass']])\n",
    "np.set_printoptions(precision=3, threshold=np.inf, suppress=True)"
   ]
  },
  {
   "cell_type": "markdown",
   "id": "0d0d7f02-bc07-497f-a66b-0f07682530fb",
   "metadata": {},
   "source": [
    "**Capacity matrix**"
   ]
  },
  {
   "cell_type": "markdown",
   "id": "ac03224d-3aad-4951-86c6-0e8781eb27e1",
   "metadata": {},
   "source": [
    "The thermal capacities of the model are implemented as follows:"
   ]
  },
  {
   "cell_type": "code",
   "execution_count": 13,
   "id": "b04cf80b-e03e-4e59-a470-aebcc8daa97f",
   "metadata": {},
   "outputs": [],
   "source": [
    "C_ = wall['Density'] * wall['Specific heat'] * wall['Surface'] * wall['Width']\n",
    "C_['Air'] = air['Density'] * air['Specific heat'] * Va"
   ]
  },
  {
   "cell_type": "code",
   "execution_count": 14,
   "id": "ca2b5a02-7d8e-4292-8a91-46a4ffcc3200",
   "metadata": {},
   "outputs": [
    {
     "name": "stdout",
     "output_type": "stream",
     "text": [
      "(7, 7)\n"
     ]
    }
   ],
   "source": [
    "C = np.zeros([7, 7])\n",
    "C[1, 1] = C_['Air']\n",
    "C[2, 2] = C_['Tempered Glass']\n",
    "C[4, 4] = C_['Concrete']\n",
    "C[5, 5] = C_['Insulation']\n",
    "\n",
    "np.set_printoptions(suppress=False, threshold=np.inf)\n",
    "print(C.shape)"
   ]
  },
  {
   "cell_type": "markdown",
   "id": "efedaf69-3d44-427b-8901-0a68be3edabd",
   "metadata": {
    "tags": []
   },
   "source": [
    "**Input vectors**\n",
    "\n",
    "The vector of *temperature sources* is **b**. It has the size of the number of flow branches $n_q$ (in this case 11) and any element corresponding to a branch without a heat source is zero. We assume the temperature of the air outside the building ($T_o$) is 15 ◦C while the building's set temperature ($T_{isp})$ is 20 ◦C."
   ]
  },
  {
   "cell_type": "code",
   "execution_count": 15,
   "id": "0c50c546-b80e-4a88-83e2-bac965021651",
   "metadata": {},
   "outputs": [
    {
     "name": "stdout",
     "output_type": "stream",
     "text": [
      "[15. 20. 15. 15.  0.  0.  0.  0.  0.  0.  0.]\n"
     ]
    }
   ],
   "source": [
    "b = np.zeros(11)\n",
    "b[[0, 2, 3]] = 15\n",
    "b[[1]] = 20\n",
    "\n",
    "print(b)"
   ]
  },
  {
   "cell_type": "markdown",
   "id": "236ad1c6-64ac-4e42-b7cb-46be011ccc75",
   "metadata": {
    "tags": []
   },
   "source": [
    "The vector of *heat sources* is **f**. It has the size of the number of temperature nodes $n_θ$ (in this case 7). We assign some arbitrary non-zero values to the heat sources as follows:"
   ]
  },
  {
   "cell_type": "code",
   "execution_count": 16,
   "id": "5215c4c8-82d1-4bbe-aa4f-ba791b6b1b92",
   "metadata": {
    "tags": []
   },
   "outputs": [
    {
     "data": {
      "text/plain": [
       "array([   0., 7000., 5000., 1000.,    0.,    0., 5000.])"
      ]
     },
     "execution_count": 16,
     "metadata": {},
     "output_type": "execute_result"
    }
   ],
   "source": [
    "f = np.zeros(7)\n",
    "f[[1, 2, 3, 6]] = 1000 + np.array([6000, 4000, 0, 4000])\n",
    "\n",
    "f"
   ]
  },
  {
   "cell_type": "markdown",
   "id": "a29cd51c-08bf-4395-a070-d2c074eee82d",
   "metadata": {
    "tags": []
   },
   "source": [
    "The inputs vector **u** is:\n",
    "\n",
    "$$\\mathbf{u} = \\begin{bmatrix}\n",
    "\\mathbf{b}\\\\ \n",
    "\\mathbf{f}\n",
    "\\end{bmatrix}$$\n",
    "\n",
    "where **b** is  the vector of temperature sources and **f** the vector of heat flow sources. Note that in Python, a vector is a row. The **u** vector is obtained as an horizontal stack of the sources that are in the circuit (non-zero elements of **b** and **f**):"
   ]
  },
  {
   "cell_type": "code",
   "execution_count": 17,
   "id": "3780da0d-8598-4f86-bb83-fc64e91fede7",
   "metadata": {},
   "outputs": [
    {
     "data": {
      "text/plain": [
       "array([  15.,   20.,   15.,   15., 7000., 5000., 1000., 5000.])"
      ]
     },
     "execution_count": 17,
     "metadata": {},
     "output_type": "execute_result"
    }
   ],
   "source": [
    "u = np.hstack([b[np.nonzero(b)], f[np.nonzero(f)]])\n",
    "u"
   ]
  },
  {
   "cell_type": "markdown",
   "id": "5dee59ff-9153-498a-ab9b-a1bedb6b5d35",
   "metadata": {},
   "source": [
    "**Output vector**  \n",
    "The vector of outputs is **y**. It has the size of the number of temperature nodes $n_θ$ (in this case 7). The non-zero values of **y** indicate the nodes that are the outputs of the model. Let's assume that all temperatures are of interest:"
   ]
  },
  {
   "cell_type": "code",
   "execution_count": 18,
   "id": "6ced5a80-70fb-4c74-b3ad-54003c038871",
   "metadata": {},
   "outputs": [],
   "source": [
    "y = np.ones(7)"
   ]
  },
  {
   "cell_type": "markdown",
   "id": "d5448a33",
   "metadata": {},
   "source": [
    "##### STEADY-STATE RESULTS\n",
    "\n",
    "For steady state analysis of the apartment, our goal is to determine the temperature at all the nodes given the available input of known temperatures and heat sources. Then we compare the results of the thermal circuit and its state-space representation.  \n",
    "The thermal cirucuit and its state space representation are given by the following equations:\n",
    "$$y_{tc} = (A^T G A)^{-1}(A^T G b + f)$$\n",
    "$$y_{ss} = (-C_s A_s^{-1} B_s + D_s) u$$ "
   ]
  },
  {
   "cell_type": "markdown",
   "id": "bcbf9e6a-a765-47ee-aaab-f8a4f61592e9",
   "metadata": {
    "tags": []
   },
   "source": [
    "Let's compare the steady state results obtained with the differential-algebraic equations of the thermal circuit."
   ]
  },
  {
   "cell_type": "code",
   "execution_count": 19,
   "id": "23c9de06-8be7-4dff-a734-027c31349e27",
   "metadata": {},
   "outputs": [],
   "source": [
    "[As, Bs, Cs, Ds] = dm4bem.tc2ss(A, G, b, C, f, y)"
   ]
  },
  {
   "cell_type": "code",
   "execution_count": 20,
   "id": "2fc42d76-0926-4d1d-8444-7ed43b961022",
   "metadata": {},
   "outputs": [
    {
     "name": "stdout",
     "output_type": "stream",
     "text": [
      "[34.07  30.863 35.674 20.254 22.553 24.745 72.411]\n",
      "[34.07  30.863 35.674 20.254 22.553 24.745 72.411]\n",
      "Max error in steady-state between thermal circuit and state-space: 1.42e-14\n"
     ]
    }
   ],
   "source": [
    "yss = (-Cs @ np.linalg.inv(As) @ Bs + Ds) @ u\n",
    "ytc = np.linalg.inv(A.T @ G @ A) @ (A.T @ G @ b + f)\n",
    "\n",
    "print(np.array_str(yss, precision=3, suppress_small=True))\n",
    "print(np.array_str(ytc, precision=3, suppress_small=True))\n",
    "print(f'Max error in steady-state between thermal circuit and state-space:\\\n",
    " {max(abs(yss - ytc)):.2e}')"
   ]
  },
  {
   "cell_type": "markdown",
   "id": "7dab5fdc",
   "metadata": {},
   "source": [
    "It can be observed that both the thermal circuit and the state space representation give us the same results for all temperature nodes. Using the current model, it can be seen that the temperaure of the insulation reaches a high degree. This is due to the high heat flow from the kitchen oven which heats up the indoor air. This heat is mostly retained by the insulation due to its high specific heat capacity which results in its high temperature.\n",
    "\n",
    "Furthermore, the maximum error in steady-state between the two is given as 1.42 × 10$^{-14}$. This shows that the matrices are properly constructed for the given model.  "
   ]
  },
  {
   "cell_type": "markdown",
   "id": "e4cb1c53",
   "metadata": {},
   "source": [
    "##### DYNAMIC SIMULATION"
   ]
  },
  {
   "cell_type": "markdown",
   "id": "747a5518-38c0-429a-9fbe-22154079afd1",
   "metadata": {},
   "source": [
    "In dynamic simulation, the inputs vary in time. We indicate the sources in the circuit by ones:"
   ]
  },
  {
   "cell_type": "code",
   "execution_count": 21,
   "id": "57e866dc-b618-4e73-a64b-45d7ca2a14f2",
   "metadata": {},
   "outputs": [],
   "source": [
    "b = np.zeros(11)\n",
    "b[[0, 1, 2, 3]] = 1\n",
    "\n",
    "f = np.zeros(7)\n",
    "f[[1, 2, 3, 6]] = 1"
   ]
  },
  {
   "cell_type": "markdown",
   "id": "5722c49c-477b-4d26-968b-24caf8830497",
   "metadata": {},
   "source": [
    "In addition, we consider that the output of the circuit is the indoor temperature (i.e. the temperature of node 2):"
   ]
  },
  {
   "cell_type": "code",
   "execution_count": 22,
   "id": "95c20190-8892-428e-b49b-ef22009a1d60",
   "metadata": {},
   "outputs": [],
   "source": [
    "y = np.zeros(7)\n",
    "y[[1]] = 1"
   ]
  },
  {
   "cell_type": "markdown",
   "id": "93035e1b-8c59-4bb1-8168-c149b29ce9e3",
   "metadata": {},
   "source": [
    "The state-space representation is obtained from the differential-algebraic equations of the thermal circuit:"
   ]
  },
  {
   "cell_type": "code",
   "execution_count": 23,
   "id": "cb57a394-e13d-4c8c-b605-3793df66f1fe",
   "metadata": {},
   "outputs": [],
   "source": [
    "[As, Bs, Cs, Ds] = dm4bem.tc2ss(A, G, b, C, f, y)"
   ]
  },
  {
   "cell_type": "markdown",
   "id": "9c0d162e-389e-4de3-b59f-76580adb72ea",
   "metadata": {
    "tags": []
   },
   "source": [
    "**Time Step**  \n",
    "The maximum time step for numerical stability of Euler explicit itegration in time is given by the minimum eigenvalue $\\lambda$ of the state matrix $A_s$:\n",
    "\n",
    "$$ \\Delta t \\leq \\min (-2 / \\lambda_i) = \\min T_i/2$$\n",
    "\n",
    "where $T_i$ is the time constants, $T_i = - \\frac{1}{\\lambda_i} $"
   ]
  },
  {
   "cell_type": "code",
   "execution_count": 24,
   "id": "6327cf9d-eb39-4d3a-8151-9be60df30da8",
   "metadata": {},
   "outputs": [
    {
     "name": "stdout",
     "output_type": "stream",
     "text": [
      "Maximum time step: 72.40 s\n"
     ]
    }
   ],
   "source": [
    "dtmax = min(-2. / np.linalg.eig(As)[0])\n",
    "print(f'Maximum time step: {dtmax:.2f} s')"
   ]
  },
  {
   "cell_type": "markdown",
   "id": "17f1b010-7d23-46f1-8c13-cc1e7704bc0c",
   "metadata": {},
   "source": [
    "We need to chose a time step smaller than `dtmax`:"
   ]
  },
  {
   "cell_type": "code",
   "execution_count": 25,
   "id": "d634f2a6-d989-42f4-8f51-d973d63b5027",
   "metadata": {},
   "outputs": [],
   "source": [
    "dt = 60"
   ]
  },
  {
   "cell_type": "markdown",
   "id": "1dac581d-272f-4cdd-8843-eeb44dd6a58d",
   "metadata": {
    "tags": []
   },
   "source": [
    "**Step Response**\n",
    "\n",
    "Next, we obtain the dynamic response of the system to a step input. The duration of the simulation is set to 4 hrs."
   ]
  },
  {
   "cell_type": "code",
   "execution_count": 26,
   "id": "ba3db8fd-b322-43ca-9038-4d1a197a795c",
   "metadata": {},
   "outputs": [],
   "source": [
    "duration = 3600 * 4\n",
    "n = int(np.floor(duration / dt))\n",
    "t = np.arange(0, n * dt, dt)    # time vector"
   ]
  },
  {
   "cell_type": "markdown",
   "id": "e1cf346d-6283-4095-aa29-6dc378f54eb6",
   "metadata": {
    "tags": []
   },
   "source": [
    "For the input vector **u**, the outdoor temperatures will be `To = 1`, the indoor set-point temperature will `Tsp =0`, and the heat flow sources will be zero. "
   ]
  },
  {
   "cell_type": "code",
   "execution_count": 27,
   "id": "3da47c23-3af1-4515-b919-2b394a655a2f",
   "metadata": {},
   "outputs": [],
   "source": [
    "# Vectors of state and input (in time)\n",
    "n_tC = As.shape[0]              # no of state variables (temps with capacity)\n",
    "# u = [To To To Tsp Phii Phio Qaux Phia]\n",
    "u = np.zeros([8, n])\n",
    "u[0:3, :] = np.ones([3, n])"
   ]
  },
  {
   "cell_type": "markdown",
   "id": "c26d5657-c137-46c9-93e2-6340e13f9d7d",
   "metadata": {},
   "source": [
    "The vectors for the evolution of **tem**peratures (states) in time for Euler **exp**licit and **imp**licit are:"
   ]
  },
  {
   "cell_type": "code",
   "execution_count": 28,
   "id": "242de134-716f-4695-8253-cc6558b5e94e",
   "metadata": {},
   "outputs": [],
   "source": [
    "temp_exp = np.zeros([n_tC, t.shape[0]])\n",
    "temp_imp = np.zeros([n_tC, t.shape[0]])\n",
    "\n",
    "I = np.eye(n_tC)\n",
    "for k in range(n - 1):\n",
    "    temp_exp[:, k + 1] = (I + dt * As) @\\\n",
    "        temp_exp[:, k] + dt * Bs @ u[:, k]\n",
    "    temp_imp[:, k + 1] = np.linalg.inv(I - dt * As) @\\\n",
    "        (temp_imp[:, k] + dt * Bs @ u[:, k])"
   ]
  },
  {
   "cell_type": "markdown",
   "id": "dc2b5250-4741-4dc7-9e48-f1961e6070b0",
   "metadata": {},
   "source": [
    "The output of the dynamic simulation is as shown below:"
   ]
  },
  {
   "cell_type": "code",
   "execution_count": 29,
   "id": "3501632a-bdbd-44ed-9733-0e10c97731b5",
   "metadata": {},
   "outputs": [
    {
     "data": {
      "image/png": "[encoded data removed]",
      "text/plain": [
       "<Figure size 432x288 with 1 Axes>"
      ]
     },
     "metadata": {
      "needs_background": "light"
     },
     "output_type": "display_data"
    }
   ],
   "source": [
    "y_exp = Cs @ temp_exp + Ds @  u\n",
    "y_imp = Cs @ temp_imp + Ds @  u\n",
    "\n",
    "fig, ax = plt.subplots()\n",
    "ax.plot(t / 3600, y_exp.T, t / 3600, y_imp.T)\n",
    "ax.set(xlabel='Time [h]',\n",
    "       ylabel='$T_i$ [°C]',\n",
    "       title='Step input: To = 1°C')\n",
    "plt.show()"
   ]
  },
  {
   "cell_type": "code",
   "execution_count": 30,
   "id": "d6801343-7156-4c91-b7cd-f93f93229ad2",
   "metadata": {},
   "outputs": [
    {
     "name": "stdout",
     "output_type": "stream",
     "text": [
      "Steady-state indoor temperature obtained with:\n",
      "- DAE model: 1.0000 °C\n",
      "- response to step input:0.9923 °C\n"
     ]
    }
   ],
   "source": [
    "b = np.zeros(11)\n",
    "b[[0, 2, 3]] = 1\n",
    "f = np.zeros(7)\n",
    "\n",
    "ytc = np.linalg.inv(A.T @ G @ A) @ (A.T @ G @ b + f)\n",
    "print('Steady-state indoor temperature obtained with:')\n",
    "print(f'- DAE model: {ytc[6]:.4f} °C')\n",
    "print(f'- response to step input:{float(y_exp[:, -2]):.4f} °C')"
   ]
  },
  {
   "cell_type": "markdown",
   "id": "10f54205",
   "metadata": {},
   "source": [
    "As observed, the dynamic model settles close to the reference value of 1 °C in about an hour. This shows that the model operates well and has rapid execution time.  "
   ]
  },
  {
   "cell_type": "markdown",
   "id": "dc0f27d2-4e15-4fe3-937c-778a80b46061",
   "metadata": {},
   "source": [
    "**Simulation with weather data**\n",
    "\n",
    "We also simulate the response of the dynamic model using real weather data from Lyon. "
   ]
  },
  {
   "cell_type": "code",
   "execution_count": 31,
   "id": "96337ca7-7563-4f62-abd2-df7b05e4929a",
   "metadata": {},
   "outputs": [],
   "source": [
    "filename = 'FRA_Lyon.074810_IWEC.epw'\n",
    "start_date = '2000-01-03 12:00:00' \n",
    "end_date = '2000-02-05 18:00:00'\n",
    "\n",
    "# Read weather data from Energyplus .epw file\n",
    "[data, meta] = dm4bem.read_epw(filename, coerce_year=None)\n",
    "weather = data[[\"temp_air\", \"dir_n_rad\", \"dif_h_rad\"]]\n",
    "del data\n",
    "weather.index = weather.index.map(lambda t: t.replace(year=2000))\n",
    "weather = weather[(weather.index >= start_date) & (\n",
    "    weather.index < end_date)]"
   ]
  },
  {
   "cell_type": "markdown",
   "id": "71b03819-1b8d-4a54-9c8a-fb56364d07ac",
   "metadata": {},
   "source": [
    "From the weather data, we calculate the hourly solar radiation on a tilted surface, `Φt1` [W]:"
   ]
  },
  {
   "cell_type": "code",
   "execution_count": 32,
   "id": "92aa26bf-77c8-4c31-aee0-0886cf86ab69",
   "metadata": {},
   "outputs": [],
   "source": [
    "surface_orientation = {'slope': 60,\n",
    "                       'azimuth': 0,\n",
    "                       'latitude': 45}\n",
    "albedo = 0.2\n",
    "rad_surf1 = dm4bem.sol_rad_tilt_surf(weather, surface_orientation, albedo)\n",
    "rad_surf1['Φt1'] = rad_surf1.sum(axis=1)"
   ]
  },
  {
   "cell_type": "markdown",
   "id": "bacf20a0-9eef-41cd-b97c-a66da45a9f18",
   "metadata": {},
   "source": [
    "The weather data is at the time-step of 1h. We adjusst it to be at time step of `dt`. "
   ]
  },
  {
   "cell_type": "code",
   "execution_count": 33,
   "id": "93c1c908-ff9c-444a-9c69-b5e77270d87a",
   "metadata": {},
   "outputs": [],
   "source": [
    "data = pd.concat([weather['temp_air'], rad_surf1['Φt1']], axis=1)\n",
    "data = data.resample(str(dt) + 'S').interpolate(method='linear')\n",
    "data = data.rename(columns={'temp_air': 'To'})"
   ]
  },
  {
   "cell_type": "markdown",
   "id": "11dc5a18-d6d6-4491-b78d-4aaaa2086d85",
   "metadata": {},
   "source": [
    "We also consider the indoor temperature setpoint $T_{i,sp}$ and auxiliary heat flow $\\dot{Q}_{aux}$ constant for the whole simulation period."
   ]
  },
  {
   "cell_type": "code",
   "execution_count": 34,
   "id": "6d61f97c-5a6b-4bef-9353-7036b195eafa",
   "metadata": {},
   "outputs": [],
   "source": [
    "data['Ti'] = 20 * np.ones(data.shape[0])\n",
    "data['Qa'] = 0 * np.ones(data.shape[0])"
   ]
  },
  {
   "cell_type": "markdown",
   "id": "4bb67e8f-32d5-4d0b-bb76-0f2fab1cf27e",
   "metadata": {},
   "source": [
    "The simulation time vector, at time step `dt`is:"
   ]
  },
  {
   "cell_type": "code",
   "execution_count": 35,
   "id": "75ad6551-edf1-4229-a310-d14eb31d77bd",
   "metadata": {},
   "outputs": [],
   "source": [
    "t = dt * np.arange(data.shape[0])"
   ]
  },
  {
   "cell_type": "markdown",
   "id": "9c94a6eb-0994-47e7-8784-0572e76963db",
   "metadata": {},
   "source": [
    "The input vector is formed by the temperature sources $\\left [ T_o, T_{i,sp}, T_o ,T_o,  \\right ]$ and the heat flow sources $\\left [ \\dot{Q}_{aux}, \\Phi_t, \\Phi_o, \\Phi_i \\right ]$"
   ]
  },
  {
   "cell_type": "code",
   "execution_count": 36,
   "id": "6b9bf1da-df99-4c29-a995-a37235f92e2c",
   "metadata": {},
   "outputs": [],
   "source": [
    "u = pd.concat([data['To'], data['Ti'], data['To'], data['To'], data['Qa'],\n",
    "               α_gSW * wall['Surface']['Tempered Glass'] * data['Φt1'],\n",
    "               α_wSW * wall['Surface']['Concrete'] * data['Φt1'], \n",
    "               τ_gSW * α_wSW * wall['Surface']['Glass'] * data['Φt1']\n",
    "               ],\n",
    "               axis=1)"
   ]
  },
  {
   "cell_type": "markdown",
   "id": "95d371b1-e61b-4092-8a03-3c0052fa1f7e",
   "metadata": {},
   "source": [
    "The initial value of the state-vector is set to a non-zero value:"
   ]
  },
  {
   "cell_type": "code",
   "execution_count": 37,
   "id": "3428bbdd-d34a-4d93-8438-d1c2fe8c9279",
   "metadata": {},
   "outputs": [],
   "source": [
    "temp_exp = 20 * np.ones([As.shape[0], u.shape[0]])"
   ]
  },
  {
   "cell_type": "markdown",
   "id": "a9f75273-a2d7-4bea-b30d-c8b1adeec56f",
   "metadata": {},
   "source": [
    "Explicit Euler integration in time\n",
    "$$ \\theta_{k+1} = (I + \\Delta t A) \\theta _k + \\Delta t B u_k $$"
   ]
  },
  {
   "cell_type": "code",
   "execution_count": 38,
   "id": "6dd045e0-2a7a-4946-9f37-ed341d9da11d",
   "metadata": {},
   "outputs": [],
   "source": [
    "for k in range(u.shape[0] - 1):\n",
    "    temp_exp[:, k + 1] = (I + dt * As) @ temp_exp[:, k]\\\n",
    "        + dt * Bs @ u.iloc[k, :]"
   ]
  },
  {
   "cell_type": "markdown",
   "id": "c7fcc96b-baa9-4582-a9df-8042f90352ed",
   "metadata": {
    "tags": []
   },
   "source": [
    "yields the time variation of state variable $\\theta$, from which we obtain the variation of the output (i.e. indoor temperature):\n",
    "$$y = C_s \\theta + D_s u$$\n",
    "and the variation of the heat flow of the HVAC system:\n",
    "$$q_{HVAC} = K_p (T_{i,sp} - y)$$\n",
    "where $K_p$ is the gain of the P-controller and $T_{i,sp}$ is the HVAC-setpoint for the indoor temperature."
   ]
  },
  {
   "cell_type": "code",
   "execution_count": 39,
   "id": "d4d7fecc-4261-4c04-9056-d5c7c43caf18",
   "metadata": {},
   "outputs": [
    {
     "data": {
      "image/png": "[encoded data removed]",
      "text/plain": [
       "<Figure size 432x288 with 2 Axes>"
      ]
     },
     "metadata": {
      "needs_background": "light"
     },
     "output_type": "display_data"
    }
   ],
   "source": [
    "y_exp = Cs @ temp_exp + Ds @ u.to_numpy().T\n",
    "q_HVAC = Kp * (data['Ti'] - y_exp[0, :])\n",
    "\n",
    "fig, axs = plt.subplots(2, 1)\n",
    "# plot indoor and outdoor temperature\n",
    "axs[0].plot(t / 3600, y_exp[0, :], label='$T_{indoor}$')\n",
    "axs[0].plot(t / 3600, data['To'], label='$T_{outdoor}$')\n",
    "axs[0].set(xlabel='Time [h]',\n",
    "           ylabel='Temperatures [°C]',\n",
    "           title='Simulation for weather')\n",
    "axs[0].legend(loc='upper right')\n",
    "\n",
    "# plot total solar radiation and HVAC heat flow\n",
    "axs[1].plot(t / 3600,  q_HVAC, label='$q_{HVAC}$')\n",
    "axs[1].plot(t / 3600, data['Φt1'], label='$Φ_{total}$')\n",
    "axs[1].set(xlabel='Time [h]',\n",
    "           ylabel='Heat flows [W]')\n",
    "axs[1].legend(loc='upper right')\n",
    "\n",
    "fig.tight_layout()"
   ]
  },
  {
   "cell_type": "markdown",
   "id": "53b7d792",
   "metadata": {},
   "source": [
    "As observed from the plots above, when the gain of the HVAC system is set to a very low value of 1 × 10$^{-3}$, the system behaves as if there is no controller and no additional heat is produced by the HVAC system. Therefore, the only remaining influence on the indoor air is the outdoor air and thus the temperature of the indoor air closely follows the evolution of that out of the outer air. \n",
    "\n",
    "When a high gain is set for the controller (1 × 10$^{4}$), the HVAC system behaves like a perfect controller and aims to keep the indoor temperature at its constant set point of 20 °C irrespective of the outdoor temperature and this is evident in the plot. Therefore, the heat produced by the HVAC increases or decreases depending on the situation to keep this constant temperature.   "
   ]
  },
  {
   "cell_type": "markdown",
   "id": "0ada4865",
   "metadata": {},
   "source": [
    "##### CONCLUSION"
   ]
  },
  {
   "cell_type": "markdown",
   "id": "a65482ca",
   "metadata": {},
   "source": [
    "In this project, we have successfully developed and implemented a thermal model for observing the heat flows in a typical studio apartment. The objective is to analyze the evolution of the temperature in the apartment at different nodes. The model was simulated in both steady and dynamic states. For steady state analysis, the results show that the model performs excellently and virtually no error is recorded when compared to a state-space representation. However, the temperature in certain nodes can reach a fairly high degree.  \n",
    "\n",
    "For the dynamic simulation, the model was simulated with no controller and with a perfect controller using weather data obtained online. With no controller, no power is produced by the HVAC system and the indoor temperature evolves similarly to the outdoor temperature. With a perfect controller, the HVAC system aims to keep the indoor temperature at a constant temperature of 20 °C irrespective of the outdoor temperature. However, the model still shows some slight fluctuations in achieving this goal which shows its not perfect yet.  "
   ]
  }
 ],
 "metadata": {
  "kernelspec": {
   "display_name": "Python 3 (ipykernel)",
   "language": "python",
   "name": "python3"
  },
  "language_info": {
   "codemirror_mode": {
    "name": "ipython",
    "version": 3
   },
   "file_extension": ".py",
   "mimetype": "text/x-python",
   "name": "python",
   "nbconvert_exporter": "python",
   "pygments_lexer": "ipython3",
   "version": "3.9.12"
  }
 },
 "nbformat": 4,
 "nbformat_minor": 5
}
